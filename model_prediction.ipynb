{
 "cells": [
  {
   "cell_type": "code",
   "execution_count": 8,
   "id": "174eae7c-2712-4bca-bf1e-601854c1ea57",
   "metadata": {},
   "outputs": [],
   "source": [
    " \n",
    "import tensorflow as tf\n",
    "from tensorflow.keras.applications.mobilenet_v3 import preprocess_input\n",
    "import numpy as np\n",
    "import os"
   ]
  },
  {
   "cell_type": "code",
   "execution_count": 9,
   "id": "1bcc909c-6446-409c-a414-b9c8b81ab4ed",
   "metadata": {},
   "outputs": [],
   "source": [
    "model = tf.keras.models.load_model(\"Trained_Model.keras\")"
   ]
  },
  {
   "cell_type": "code",
   "execution_count": 24,
   "id": "258c5fc2-1b10-4802-b3ef-8377c36081cf",
   "metadata": {},
   "outputs": [
    {
     "name": "stdout",
     "output_type": "stream",
     "text": [
      "Directory 'C:\\Users\\vishe\\Eye Glaucoma disease detection\\TEST' is ready.\n"
     ]
    }
   ],
   "source": [
    "import os\n",
    "\n",
    "# Define the path\n",
    "target_dir = r'C:\\Users\\vishe\\Eye Glaucoma disease detection\\TEST'\n",
    "\n",
    "# Check or create the directory\n",
    "try:\n",
    "    os.makedirs(target_dir, exist_ok=True)\n",
    "    print(f\"Directory '{target_dir}' is ready.\")\n",
    "except PermissionError:\n",
    "    print(f\"ERROR: Permission denied for '{target_dir}'. Run the script as administrator.\")"
   ]
  },
  {
   "cell_type": "code",
   "execution_count": 32,
   "id": "d419b2f8-2740-4a76-b904-8a0dc673b927",
   "metadata": {},
   "outputs": [],
   "source": [
    "img_path = './TEST/NRG/EyePACS-TRAIN-NRG-2886.jpg'\n",
    "img = tf.keras.utils.load_img(img_path, target_size=(224, 224))\n",
    "x = tf.keras.utils.img_to_array(img)\n",
    "x = np.expand_dims(x, axis=0)\n",
    "x = preprocess_input(x)"
   ]
  },
  {
   "cell_type": "code",
   "execution_count": 33,
   "id": "4d86e2eb-6bc1-4e54-89f4-f4feccadf1da",
   "metadata": {},
   "outputs": [
    {
     "data": {
      "text/plain": [
       "(1, 224, 224, 3)"
      ]
     },
     "execution_count": 33,
     "metadata": {},
     "output_type": "execute_result"
    }
   ],
   "source": [
    "x.shape"
   ]
  },
  {
   "cell_type": "code",
   "execution_count": 34,
   "id": "fecd0002-a963-440d-9c15-bcb6b391776a",
   "metadata": {},
   "outputs": [
    {
     "name": "stdout",
     "output_type": "stream",
     "text": [
      "\u001b[1m1/1\u001b[0m \u001b[32m━━━━━━━━━━━━━━━━━━━━\u001b[0m\u001b[37m\u001b[0m \u001b[1m3s\u001b[0m 3s/step\n"
     ]
    }
   ],
   "source": [
    "preds = model.predict(x)"
   ]
  },
  {
   "cell_type": "code",
   "execution_count": 35,
   "id": "14d78678-dbac-41a5-bb22-f307989121eb",
   "metadata": {},
   "outputs": [
    {
     "data": {
      "text/plain": [
       "array([[0.64513457, 0.35486543]], dtype=float32)"
      ]
     },
     "execution_count": 35,
     "metadata": {},
     "output_type": "execute_result"
    }
   ],
   "source": [
    "preds"
   ]
  },
  {
   "cell_type": "code",
   "execution_count": 36,
   "id": "b5786764-5f0f-4189-8143-e1281a8d53f9",
   "metadata": {},
   "outputs": [
    {
     "data": {
      "text/plain": [
       "['.ipynb_checkpoints', 'NRG', 'RG']"
      ]
     },
     "execution_count": 36,
     "metadata": {},
     "output_type": "execute_result"
    }
   ],
   "source": [
    "class_name = os.listdir(\"./TEST\")\n",
    "class_name"
   ]
  },
  {
   "cell_type": "code",
   "execution_count": 37,
   "id": "c8897763-35b5-4a6d-92c3-93f3e1f1b9f6",
   "metadata": {},
   "outputs": [
    {
     "data": {
      "text/plain": [
       "'.ipynb_checkpoints'"
      ]
     },
     "execution_count": 37,
     "metadata": {},
     "output_type": "execute_result"
    }
   ],
   "source": [
    "result_index = np.argmax(preds)\n",
    "class_name[result_index]"
   ]
  },
  {
   "cell_type": "code",
   "execution_count": null,
   "id": "aa028d14-10f0-43e7-afe7-c870e459a838",
   "metadata": {},
   "outputs": [],
   "source": []
  }
 ],
 "metadata": {
  "kernelspec": {
   "display_name": "Python 3 (ipykernel)",
   "language": "python",
   "name": "python3"
  },
  "language_info": {
   "codemirror_mode": {
    "name": "ipython",
    "version": 3
   },
   "file_extension": ".py",
   "mimetype": "text/x-python",
   "name": "python",
   "nbconvert_exporter": "python",
   "pygments_lexer": "ipython3",
   "version": "3.12.7"
  }
 },
 "nbformat": 4,
 "nbformat_minor": 5
}
